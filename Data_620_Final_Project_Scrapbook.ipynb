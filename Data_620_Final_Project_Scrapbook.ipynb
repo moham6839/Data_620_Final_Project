{
  "nbformat": 4,
  "nbformat_minor": 0,
  "metadata": {
    "colab": {
      "provenance": [],
      "authorship_tag": "ABX9TyO3pgc8WEc86/AJQvv1B8xK",
      "include_colab_link": true
    },
    "kernelspec": {
      "name": "python3",
      "display_name": "Python 3"
    },
    "language_info": {
      "name": "python"
    }
  },
  "cells": [
    {
      "cell_type": "markdown",
      "metadata": {
        "id": "view-in-github",
        "colab_type": "text"
      },
      "source": [
        "<a href=\"https://colab.research.google.com/github/moham6839/Data_620_Final_Project/blob/main/Data_620_Final_Project_Scrapbook.ipynb\" target=\"_parent\"><img src=\"https://colab.research.google.com/assets/colab-badge.svg\" alt=\"Open In Colab\"/></a>"
      ]
    },
    {
      "cell_type": "code",
      "execution_count": null,
      "metadata": {
        "id": "aByoB-MVVWNg"
      },
      "outputs": [],
      "source": [
        "# get the betweeness centrality\n",
        "random.seed(42)\n",
        "user_betweeness_centrality = nx.betweenness_centrality(user_graph)\n",
        "sorted_betweeness_centrality = sorted(user_betweeness_centrality.items(), key=lambda x: x[1], reverse=True)[:10]\n",
        "print(\"Top Users by Betweeness Centrality:\", sorted_betweeness_centrality)\n",
        "sorted_betweeness_centrality"
      ]
    },
    {
      "cell_type": "code",
      "source": [
        "user_betweenness_df = pd.DataFrame(sorted(user_betweeness_centrality.items(), key=lambda x: x[1], reverse=True),\n",
        "                               columns=['Name', 'Betweenness Centrality'])\n",
        "\n",
        "# top 10\n",
        "user_betweenness_df.head(10)"
      ],
      "metadata": {
        "id": "Y2QPqgbcVYhS"
      },
      "execution_count": null,
      "outputs": []
    },
    {
      "cell_type": "code",
      "source": [
        "# Bottom 10\n",
        "user_betweenness_df.tail(10)"
      ],
      "metadata": {
        "id": "nhSMOBveVYet"
      },
      "execution_count": null,
      "outputs": []
    },
    {
      "cell_type": "code",
      "source": [
        "# Extract the top 10 nodes by degree centrality from the sampled graph\n",
        "top_nodes2 = [node for node, _ in sorted_betweeness_centrality]\n",
        "\n",
        "# Assign colors: Highlight top nodes in red, others in blue\n",
        "node_colors = [\"red\" if node in top_nodes2 else \"lightblue\" for node in G.nodes()]\n",
        "\n",
        "# Plot the network with highlighted top nodes\n",
        "plt.figure(figsize=(12, 8))\n",
        "pos = nx.spring_layout(G, seed=42)  # Layout for better visualization\n",
        "\n",
        "nx.draw(G, pos, with_labels=True, node_color=node_colors, edge_color=\"gray\",\n",
        "        node_size=300, font_size=6, font_color=\"black\")\n",
        "\n",
        "plt.title(\"Top 10 Heroes by Betweenness Centrality\")\n",
        "plt.show()"
      ],
      "metadata": {
        "id": "kqp0UQjpVYcG"
      },
      "execution_count": null,
      "outputs": []
    },
    {
      "cell_type": "code",
      "source": [],
      "metadata": {
        "id": "9wcvQK31VYZv"
      },
      "execution_count": null,
      "outputs": []
    },
    {
      "cell_type": "code",
      "source": [
        "# get the closenss centrality\n",
        "random.seed(42)\n",
        "user_closeness_centrality = nx.closeness_centrality(user_graph)\n",
        "sorted_closeness_centrality = sorted(user_closeness_centrality.items(), key=lambda x: x[1], reverse=True)[:10]\n",
        "print(\"Top Avenger by Closeness Centrality:\", sorted_closeness_centrality)\n",
        "sorted_closeness_centrality"
      ],
      "metadata": {
        "id": "sFQSkSIeVYXI"
      },
      "execution_count": null,
      "outputs": []
    },
    {
      "cell_type": "code",
      "source": [
        "user_closeness_df = pd.DataFrame(sorted(user_closeness_centrality.items(), key=lambda x: x[1], reverse=True),\n",
        "                               columns=['Name', 'Closeness Centrality'])\n",
        "\n",
        "# top 10\n",
        "user_closeness_df.head(10)"
      ],
      "metadata": {
        "id": "ZizOipsSVYR7"
      },
      "execution_count": null,
      "outputs": []
    },
    {
      "cell_type": "code",
      "source": [
        "# Bottom 10\n",
        "user_closeness_df.tail(10)"
      ],
      "metadata": {
        "id": "gC1cIOuHVYKo"
      },
      "execution_count": null,
      "outputs": []
    },
    {
      "cell_type": "code",
      "source": [
        "# Extract the top 10 nodes by degree centrality from the sampled graph\n",
        "top_nodes3 = [node for node, _ in sorted_closeness_centrality]\n",
        "\n",
        "# Assign colors: Highlight top nodes in red, others in blue\n",
        "node_colors = [\"red\" if node in top_nodes3 else \"lightblue\" for node in user_graph.nodes()]\n",
        "\n",
        "# Plot the network with highlighted top nodes\n",
        "plt.figure(figsize=(12, 8))\n",
        "pos = nx.spring_layout(user_graph, seed=42)  # Layout for better visualization\n",
        "\n",
        "nx.draw(G, pos, with_labels=True, node_color=node_colors, edge_color=\"gray\",\n",
        "        node_size=300, font_size=6, font_color=\"black\")\n",
        "\n",
        "plt.title(\"Top 10 Users by Closeness Centrality\")\n",
        "plt.show()"
      ],
      "metadata": {
        "id": "j0WUKW0tVYIB"
      },
      "execution_count": null,
      "outputs": []
    },
    {
      "cell_type": "code",
      "source": [],
      "metadata": {
        "id": "3iF6SDjeVYFQ"
      },
      "execution_count": null,
      "outputs": []
    },
    {
      "cell_type": "code",
      "source": [],
      "metadata": {
        "id": "eowKPAvuVtfd"
      },
      "execution_count": null,
      "outputs": []
    },
    {
      "cell_type": "code",
      "source": [
        "# Initialize a bipartite graph\n",
        "B = nx.Graph()\n",
        "\n",
        "# Add nodes with node attributes (bipartite group 0 = users, 1 = airlines)\n",
        "users = Tweet['name'].unique()\n",
        "airlines = Tweet['airline'].unique()\n",
        "\n",
        "B.add_nodes_from(users, bipartite=0)\n",
        "B.add_nodes_from(airlines, bipartite=1)\n",
        "\n",
        "# Add edges: from user to airline (one edge per interaction)\n",
        "edges = list(Tweet[['name', 'airline']].itertuples(index=False, name=None))\n",
        "B.add_edges_from(edges)"
      ],
      "metadata": {
        "id": "TZD1mphbVtc2"
      },
      "execution_count": null,
      "outputs": []
    },
    {
      "cell_type": "code",
      "source": [
        "# Get node sets by type\n",
        "user_nodes = {n for n, d in B.nodes(data=True) if d['bipartite'] == 0}\n",
        "airline_nodes = set(B) - user_nodes\n",
        "\n",
        "print(\"Number of users:\", len(user_nodes))\n",
        "print(\"Number of airlines:\", len(airline_nodes))\n",
        "print(\"Total edges:\", B.number_of_edges())"
      ],
      "metadata": {
        "id": "GMLhIay5VtaP"
      },
      "execution_count": null,
      "outputs": []
    },
    {
      "cell_type": "code",
      "source": [
        "import matplotlib.pyplot as plt\n",
        "\n",
        "# Create layout for bipartite\n",
        "pos = nx.bipartite_layout(B, user_nodes)\n",
        "\n",
        "plt.figure(figsize=(12, 8))\n",
        "nx.draw(B, pos, with_labels=True, node_color=['skyblue' if n in user_nodes else 'salmon' for n in B.nodes()], edge_color='gray', node_size=500, font_size=8)\n",
        "plt.title(\"Bipartite Network: Users and Airlines\")\n",
        "plt.show()"
      ],
      "metadata": {
        "id": "YHNzInbbVtXp"
      },
      "execution_count": null,
      "outputs": []
    },
    {
      "cell_type": "code",
      "source": [
        "from networkx.algorithms import bipartite\n",
        "\n",
        "# Use the bipartite projection to get the airline-only graph\n",
        "projected_airline_graph = bipartite.weighted_projected_graph(B, airline_nodes)"
      ],
      "metadata": {
        "id": "9QrPMTMDVtVD"
      },
      "execution_count": null,
      "outputs": []
    },
    {
      "cell_type": "code",
      "source": [
        "pos = nx.spring_layout(projected_airline_graph, seed=42)\n",
        "\n",
        "plt.figure(figsize=(10, 6))\n",
        "edges = projected_airline_graph.edges(data=True)\n",
        "weights = [d['weight'] for (_, _, d) in edges]\n",
        "\n",
        "nx.draw_networkx_nodes(projected_airline_graph, pos, node_color='lightblue', node_size=700)\n",
        "nx.draw_networkx_edges(projected_airline_graph, pos, width=weights)\n",
        "nx.draw_networkx_labels(projected_airline_graph, pos, font_size=10)\n",
        "plt.title(\"Airline Co-Engagement Network (Shared Users)\")\n",
        "plt.axis('off')\n",
        "plt.show()"
      ],
      "metadata": {
        "id": "af1Ef-Eivx3I"
      },
      "execution_count": null,
      "outputs": []
    },
    {
      "cell_type": "code",
      "source": [
        "# Degree centrality\n",
        "deg_centrality = nx.degree_centrality(projected_airline_graph)\n",
        "\n",
        "# Betweenness centrality\n",
        "bet_centrality = nx.betweenness_centrality(projected_airline_graph, weight='weight')\n",
        "\n",
        "# Closeness centrality\n",
        "closeness = nx.closeness_centrality(projected_airline_graph)\n",
        "\n",
        "# Combine into DataFrame\n",
        "import pandas as pd\n",
        "\n",
        "centrality_df = pd.DataFrame({\n",
        "    'Degree': pd.Series(deg_centrality),\n",
        "    'Betweenness': pd.Series(bet_centrality),\n",
        "    'Closeness': pd.Series(closeness)\n",
        "}).sort_values('Degree', ascending=False)\n",
        "\n",
        "print(centrality_df.head(10))"
      ],
      "metadata": {
        "id": "SL2wS5STvx1S"
      },
      "execution_count": null,
      "outputs": []
    },
    {
      "cell_type": "code",
      "source": [
        "# Project to users — connections exist if two users interacted with the same airline\n",
        "user_graph = bipartite.weighted_projected_graph(B, user_nodes)"
      ],
      "metadata": {
        "id": "z5Gclgoyvxyr"
      },
      "execution_count": null,
      "outputs": []
    },
    {
      "cell_type": "code",
      "source": [],
      "metadata": {
        "id": "FEOmE7idvxwV"
      },
      "execution_count": null,
      "outputs": []
    },
    {
      "cell_type": "code",
      "source": [],
      "metadata": {
        "id": "bmCjD3s-vxt-"
      },
      "execution_count": null,
      "outputs": []
    },
    {
      "cell_type": "code",
      "source": [
        "# get the degree centrality\n",
        "random.seed(42)\n",
        "user_centrality = nx.degree_centrality(user_graph)\n",
        "sorted_user_centrality = sorted(user_centrality.items(), key=lambda x: x[1], reverse=True)[:10]\n",
        "print(\"Top Users by Degree Centrality:\", user_centrality)\n",
        "sorted_user_centrality"
      ],
      "metadata": {
        "id": "66-RuY3_vxrM"
      },
      "execution_count": null,
      "outputs": []
    },
    {
      "cell_type": "code",
      "source": [
        "user_degree_df = pd.DataFrame(sorted(user_centrality.items(), key=lambda x: x[1], reverse=True),\n",
        "                               columns=['Name', 'Degree Centrality'])\n",
        "\n",
        "# top 10\n",
        "user_degree_df.head(10)"
      ],
      "metadata": {
        "id": "amzCQ1sRwOsb"
      },
      "execution_count": null,
      "outputs": []
    },
    {
      "cell_type": "code",
      "source": [
        "# bottom 10\n",
        "user_degree_df.tail(10)"
      ],
      "metadata": {
        "id": "LqMwB10NwOqD"
      },
      "execution_count": null,
      "outputs": []
    },
    {
      "cell_type": "code",
      "source": [
        "# # Extract the top 10 nodes by degree centrality from the sampled graph\n",
        "# top_nodes1 = [node for node, _ in sorted_user_centrality]\n",
        "\n",
        "# # Assign colors: Highlight top nodes in red, others in blue\n",
        "# node_colors = [\"red\" if node in top_nodes1 else \"lightblue\" for node in user_graph.nodes()]\n",
        "\n",
        "# # Plot the network with highlighted top nodes\n",
        "# plt.figure(figsize=(12, 8))\n",
        "# pos = nx.spring_layout(user_graph, seed=42)  # Layout for better visualization\n",
        "\n",
        "# nx.draw(user_graph, pos, with_labels=True, node_color=node_colors, edge_color=\"gray\",\n",
        "#         node_size=300, font_size=6, font_color=\"black\")\n",
        "\n",
        "# plt.title(\"Top 10 Users by Degree Centrality\")\n",
        "# plt.show()"
      ],
      "metadata": {
        "id": "23b5VcypwOn_"
      },
      "execution_count": null,
      "outputs": []
    },
    {
      "cell_type": "code",
      "source": [
        "# # Create a bipartite graph\n",
        "# B = nx.Graph()\n",
        "# B.add_nodes_from(users, bipartite=0)\n",
        "# B.add_nodes_from(airlines, bipartite=1)\n",
        "# B.add_edges_from(edges)\n",
        "\n",
        "# # Degree centrality\n",
        "# deg_cent = bipartite.degree_centrality(B, users)\n",
        "\n",
        "# # Projected graph for users\n",
        "# G_user = bipartite.projected_graph(B, users)\n",
        "\n",
        "# # Then compute other centrality measures\n",
        "# bet_cent = nx.betweenness_centrality(G_user)\n",
        "# clo_cent = nx.closeness_centrality(G_user)\n",
        "# eig_cent = nx.eigenvector_centrality(G_user)"
      ],
      "metadata": {
        "id": "ZolauJMMwOl4"
      },
      "execution_count": null,
      "outputs": []
    },
    {
      "cell_type": "code",
      "source": [
        "df = Tweet\n",
        "print(\"Total number of tweets for each airline \\n \",df.groupby('airline')['airline_sentiment'].count().sort_values(ascending=False))\n",
        "airlines= ['US Airways','United','American','Southwest','Delta','Virgin America']\n",
        "plt.figure(1,figsize=(15, 12))\n",
        "for i in airlines:\n",
        "    indices= airlines.index(i)\n",
        "    plt.subplot(2,3,indices+1)\n",
        "    new_df=df[df['airline']==i]\n",
        "    count=new_df['airline_sentiment'].value_counts()\n",
        "    Index = [1,2,3]\n",
        "    plt.bar(Index,count, color=['#b55d80', '#5985a4', '#5f9e6e'])\n",
        "    plt.xticks(Index,['negative','neutral','positive'])\n",
        "    plt.ylabel('Mood Count')\n",
        "    plt.xlabel('Mood')\n",
        "    plt.title('Count of Moods of '+i)"
      ],
      "metadata": {
        "id": "4alT5-wbwOjS"
      },
      "execution_count": null,
      "outputs": []
    },
    {
      "cell_type": "code",
      "source": [
        "df = Tweet\n",
        "\n",
        "print(\"Total number of tweets for each airline \\n\", df.groupby('airline')['airline_sentiment'].count().sort_values(ascending=False))\n",
        "\n",
        "airlines = ['US Airways', 'United', 'American', 'Southwest', 'Delta', 'Virgin America']\n",
        "sentiment_order = ['negative', 'neutral', 'positive']\n",
        "plt.figure(1, figsize=(15, 12))\n",
        "for i in airlines:\n",
        "    index = airlines.index(i)\n",
        "    plt.subplot(2, 3, index + 1)\n",
        "    new_df = df[df['airline'] == i]\n",
        "    # Ensure all sentiments are represented\n",
        "    count = new_df['airline_sentiment'].value_counts().reindex(sentiment_order, fill_value=0)\n",
        "    Index = [1, 2, 3]\n",
        "    bar_colors = ['#b55d80', '#5985a4', '#5f9e6e']\n",
        "    bars = plt.bar(Index, count, color=bar_colors)\n",
        "    # Add data labels\n",
        "    for j, bar in enumerate(bars):\n",
        "        height = bar.get_height()\n",
        "        plt.text(bar.get_x() + bar.get_width() / 2.0, height, str(height), ha='center', va='bottom', fontsize=14)\n",
        "    plt.xticks(Index, sentiment_order)\n",
        "    plt.ylabel('Mood Count')\n",
        "    plt.xlabel('Mood')\n",
        "    plt.title('Count of Moods of ' + i)\n",
        "plt.tight_layout()\n",
        "plt.show()"
      ],
      "metadata": {
        "id": "Wm2Rj3M7wOgt"
      },
      "execution_count": null,
      "outputs": []
    },
    {
      "cell_type": "code",
      "source": [
        "# import pandas as pd\n",
        "# import networkx as nx\n",
        "\n",
        "# Load the dataset\n",
        "# df = pd.read_csv(\"/mnt/data/X.csv\")\n",
        "\n",
        "# tweet_clean = Tweet.dropna(subset = 'tweet_location')\n",
        "# tweet_clean = tweet_clean.dropna(subset='user_timezone')\n",
        "# late_flight = pd.DataFrame(tweet_clean[(tweet_clean['negativereason'] == 'Late Flight') & (tweet_clean['negativereason_confidence'] == 1)])\n",
        "# late_flight = late_flight[late_flight['Tweet_length'] > 10]\n",
        "\n",
        "# Drop rows with missing values in 'name' or 'airline'\n",
        "df_clean = Tweet.dropna(subset=['name', 'airline'])\n",
        "\n",
        "# Create edges between users who mentioned the same airline\n",
        "edges = []\n",
        "grouped = df_clean.groupby('airline')['name'].apply(list)\n",
        "\n",
        "for names in grouped:\n",
        "    for i in range(len(names)):\n",
        "        for j in range(i + 1, len(names)):\n",
        "            edges.append((names[i], names[j]))\n",
        "\n",
        "# Create the unipartite graph\n",
        "G = nx.Graph()\n",
        "G.add_edges_from(edges)\n",
        "\n",
        "# Compute centrality measures\n",
        "degree_centrality = nx.degree_centrality(G)\n",
        "betweenness_centrality = nx.betweenness_centrality(G)\n",
        "eigenvector_centrality = nx.eigenvector_centrality(G)\n",
        "\n",
        "# Combine centrality measures into a DataFrame\n",
        "centrality_df = pd.DataFrame({\n",
        "    'name': list(degree_centrality.keys()),\n",
        "    'degree_centrality': list(degree_centrality.values()),\n",
        "    'betweenness_centrality': list(betweenness_centrality.values()),\n",
        "    'eigenvector_centrality': list(eigenvector_centrality.values())\n",
        "})\n",
        "\n",
        "# Show top 10 users by degree centrality\n",
        "centrality_df.sort_values(by='degree_centrality', ascending=False).head(10)"
      ],
      "metadata": {
        "id": "PVoJYFiMu2Qr"
      },
      "execution_count": null,
      "outputs": []
    },
    {
      "cell_type": "code",
      "source": [
        "user_degree_centrality = bipartite.degree_centrality(airline_bipart, user_list)\n",
        "print(\"Degree Centrality:\", user_degree_centrality)\n",
        "sorted_degree_centrality = sorted(user_degree_centrality.items(), key=lambda x: x[1], reverse=True)[:10]\n",
        "print(\"Top Users by Degree Centrality:\", sorted_degree_centrality)\n",
        "sorted_degree_centrality"
      ],
      "metadata": {
        "id": "8IX6UO7Vu2Pr"
      },
      "execution_count": null,
      "outputs": []
    },
    {
      "cell_type": "code",
      "source": [
        "P = bipartite.projected_graph(airline_bipart, user_list) # or bottom_nodes\n",
        "degree_centrality_projected = nx.degree_centrality(P)\n",
        "print(\"Degree Centrality (Projected):\", degree_centrality_projected)\n",
        "sorted_projected_degree_centrality = sorted(degree_centrality_projected.items(), key=lambda x: x[1], reverse=True)[:10]\n",
        "print(\"Top Users by Degree Centrality:\", sorted_projected_degree_centrality)\n",
        "sorted_projected_degree_centrality"
      ],
      "metadata": {
        "id": "e1ohx0wku2Op"
      },
      "execution_count": null,
      "outputs": []
    },
    {
      "cell_type": "code",
      "source": [
        "user_degree_df = pd.DataFrame(sorted(degree_centrality_projected.items(), key=lambda x: x[1], reverse=True),\n",
        "                               columns=['Name', 'Degree Centrality'])\n",
        "\n",
        "# top 10\n",
        "user_degree_df.head(10)"
      ],
      "metadata": {
        "id": "BnNLQ6wmu2M_"
      },
      "execution_count": null,
      "outputs": []
    },
    {
      "cell_type": "code",
      "source": [
        "# Degree centrality\n",
        "deg_centrality = nx.degree_centrality(airline_bipart)\n",
        "\n",
        "# Betweenness centrality\n",
        "btw_centrality = nx.betweenness_centrality(airline_bipart)\n",
        "\n",
        "# Closeness centrality\n",
        "cls_centrality = nx.closeness_centrality(airline_bipart)"
      ],
      "metadata": {
        "id": "BCftZyh5u2LN"
      },
      "execution_count": null,
      "outputs": []
    },
    {
      "cell_type": "code",
      "source": [
        "# Print top users by degree centrality (users only)\n",
        "user_deg_centrality = {k: v for k, v in deg_centrality.items() if k in user_list}\n",
        "top_users = sorted(user_deg_centrality.items(), key=lambda x: x[1], reverse=True)[:10]\n",
        "print(\"\\nTop 10 Users by Degree Centrality:\")\n",
        "for user, score in top_users:\n",
        "    print(f\"{user}: {score:.4f}\")"
      ],
      "metadata": {
        "id": "KW8t9wilu2CT"
      },
      "execution_count": null,
      "outputs": []
    },
    {
      "cell_type": "code",
      "source": [
        "# random.seed(42)\n",
        "# user_eigenvector_centrality = nx.eigenvector_centrality(user_graph)\n",
        "# sorted_eigenvector_centrality = sorted(user_eigenvector_centrality.items(), key=lambda x: x[1], reverse=True)[:10]\n",
        "# print(\"Top Users by Eigenvector Centrality:\", sorted_eigenvector_centrality)\n",
        "# sorted_eigenvector_centrality"
      ],
      "metadata": {
        "id": "2H352uRNu1-T"
      },
      "execution_count": null,
      "outputs": []
    },
    {
      "cell_type": "code",
      "source": [
        "# avenger_eigenvector_df = pd.DataFrame(sorted(avenger_eigenvector_centrality.items(), key=lambda x: x[1], reverse=True),\n",
        "#                                columns=['Name', 'Eigenvector Centrality'])\n",
        "\n",
        "# # top 10\n",
        "# avenger_eigenvector_df.head(10)"
      ],
      "metadata": {
        "id": "Onh0vG_K1bds"
      },
      "execution_count": null,
      "outputs": []
    },
    {
      "cell_type": "code",
      "source": [
        "# # Extract the top 10 nodes by degree centrality from the sampled graph\n",
        "# top_nodes4 = [node for node, _ in sorted_eigenvector_centrality]\n",
        "\n",
        "# # Assign colors: Highlight top nodes in red, others in blue\n",
        "# node_colors = [\"red\" if node in top_nodes4 else \"lightblue\" for node in G.nodes()]\n",
        "\n",
        "# # Plot the network with highlighted top nodes\n",
        "# plt.figure(figsize=(12, 8))\n",
        "# pos = nx.spring_layout(G, seed=42)  # Layout for better visualization\n",
        "\n",
        "# nx.draw(G, pos, with_labels=True, node_color=node_colors, edge_color=\"gray\",\n",
        "#         node_size=300, font_size=6, font_color=\"black\")\n",
        "\n",
        "# plt.title(\"Top 10 Heroes by Eigenvector Centrality\")\n",
        "# plt.show()"
      ],
      "metadata": {
        "id": "eFbFMmc81baT"
      },
      "execution_count": null,
      "outputs": []
    },
    {
      "cell_type": "code",
      "source": [
        "# # Centrality calculations\n",
        "# user_deg_centrality = nx.degree_centrality(user_graph)\n",
        "# user_bet_centrality = nx.betweenness_centrality(user_graph, weight='weight')\n",
        "# user_closeness = nx.closeness_centrality(user_graph)\n",
        "\n",
        "# # Combine into DataFrame\n",
        "# user_centrality_df = pd.DataFrame({\n",
        "#     'Degree': pd.Series(user_deg_centrality),\n",
        "#     'Betweenness': pd.Series(user_bet_centrality),\n",
        "#     'Closeness': pd.Series(user_closeness)\n",
        "# }).sort_values('Degree', ascending=False)\n",
        "\n",
        "# # Show top 10 most central users\n",
        "# print(user_centrality_df.head(20))"
      ],
      "metadata": {
        "id": "nLcIoHvp1bXc"
      },
      "execution_count": null,
      "outputs": []
    },
    {
      "cell_type": "code",
      "source": [
        "# # Get top 30 users by degree centrality\n",
        "# top_users = user_centrality_df.head(30).index\n",
        "# subgraph = user_graph.subgraph(top_users)\n",
        "\n",
        "# pos = nx.spring_layout(subgraph, seed=42)\n",
        "# plt.figure(figsize=(12, 8))\n",
        "# nx.draw(subgraph, pos, with_labels=True, node_color='lightgreen', edge_color='gray', node_size=600, font_size=8)\n",
        "# plt.title(\"Top 30 User Network (Shared Airline Mentions)\")\n",
        "# plt.axis('off')\n",
        "# plt.show()"
      ],
      "metadata": {
        "id": "lIKwPw2e1bUb"
      },
      "execution_count": null,
      "outputs": []
    },
    {
      "cell_type": "code",
      "source": [
        "# import pandas as pd\n",
        "# import networkx as nx\n",
        "\n",
        "# # Load the dataset\n",
        "# df = pd.read_csv(\"/mnt/data/X.csv\")\n",
        "\n",
        "# Drop rows with missing values in 'name' or 'airline'\n",
        "# df_clean = Tweet.dropna(subset=['name', 'airline'])\n",
        "\n",
        "# Create edges between users who mentioned the same airline\n",
        "# edges = []\n",
        "# grouped = late_flight.groupby('airline')['name'].apply(list)\n",
        "\n",
        "# for names in grouped:\n",
        "#     for i in range(len(names)):\n",
        "#         for j in range(i + 1, len(names)):\n",
        "#             edges.append((names[i], names[j]))\n",
        "\n",
        "# # Create the unipartite graph\n",
        "# G = nx.Graph()\n",
        "# G.add_edges_from(edges)\n",
        "\n",
        "# # Compute centrality measures\n",
        "# degree_centrality = nx.degree_centrality(G)\n",
        "# betweenness_centrality = nx.betweenness_centrality(G)\n",
        "# eigenvector_centrality = nx.eigenvector_centrality(G)\n",
        "\n",
        "# # Combine centrality measures into a DataFrame\n",
        "# centrality_df = pd.DataFrame({\n",
        "#     'name': list(degree_centrality.keys()),\n",
        "#     'degree_centrality': list(degree_centrality.values()),\n",
        "#     'betweenness_centrality': list(betweenness_centrality.values()),\n",
        "#     'eigenvector_centrality': list(eigenvector_centrality.values())\n",
        "# })\n",
        "\n",
        "# # Show top 10 users by degree centrality\n",
        "# centrality_df.sort_values(by='degree_centrality', ascending=False).head(10)"
      ],
      "metadata": {
        "id": "JsArxMEUiCxg"
      },
      "execution_count": null,
      "outputs": []
    },
    {
      "cell_type": "code",
      "source": [
        "# G=nx.from_pandas_edgelist(late_flight, 'airline', 'name')\n",
        "# pos = nx.spring_layout(G, seed=648)  # Seed layout for reproducible node positions\n",
        "# nx.draw(G, pos, with_labels=True, node_size=5000, node_color=\"orange\", font_size=8, font_color=\"black\", edge_color=\"black\", alpha=0.8)\n",
        "\n",
        "# plt.show()"
      ],
      "metadata": {
        "id": "IPu-JY2O12Ba"
      },
      "execution_count": null,
      "outputs": []
    },
    {
      "cell_type": "code",
      "source": [
        "# # get the degree centrality\n",
        "# random.seed(42)\n",
        "# user_centrality = nx.degree_centrality(G)\n",
        "# sorted_user_centrality = sorted(user_centrality.items(), key=lambda x: x[1], reverse=True)[:10]\n",
        "# print(\"Top Users by Degree Centrality:\", sorted_user_centrality)\n",
        "# sorted_user_centrality"
      ],
      "metadata": {
        "id": "ts1_UsEs11_E"
      },
      "execution_count": null,
      "outputs": []
    },
    {
      "cell_type": "code",
      "source": [
        "# user_degree_df = pd.DataFrame(sorted(user_centrality.items(), key=lambda x: x[1], reverse=True),\n",
        "#                                columns=['Name', 'Degree Centrality'])\n",
        "\n",
        "# # top 10\n",
        "# user_degree_df.head(10)"
      ],
      "metadata": {
        "id": "wynC7ux7118u"
      },
      "execution_count": null,
      "outputs": []
    },
    {
      "cell_type": "code",
      "source": [
        "random.seed(620)\n",
        "\n",
        "# df = Tweet\n",
        "\n",
        "# # Filter only rows with \"Late Flight\" as the negative reason\n",
        "# late_flight_df = df[df['negativereason'] == 'Late Flight']\n",
        "\n",
        "# Create a unipartite graph of users (you can use co-occurrence of airline for linkage)\n",
        "# For example, if multiple users complain about the same airline, connect them\n",
        "\n",
        "# Create an edge list: each edge is (user, airline)\n",
        "edges = list(zip(late_flight['name'], late_flight['airline']))\n",
        "\n",
        "# Build a bipartite graph (users and airlines)\n",
        "B = nx.Graph()\n",
        "B.add_edges_from(edges)\n",
        "\n",
        "# Project the graph onto the 'name' nodes to create unipartite user-user graph\n",
        "users = late_flight['name'].unique()\n",
        "G = nx.bipartite.projected_graph(B, users)\n",
        "\n",
        "# Calculate centrality measures\n",
        "degree_centrality = nx.degree_centrality(G)\n",
        "betweenness_centrality = nx.betweenness_centrality(G)\n",
        "closeness_centrality = nx.closeness_centrality(G)\n",
        "eigenvector_centrality = nx.eigenvector_centrality(G, max_iter=1000)\n",
        "\n",
        "# Convert to DataFrame for display\n",
        "centrality_df = pd.DataFrame({\n",
        "    'user': list(degree_centrality.keys()),\n",
        "    'degree': list(degree_centrality.values()),\n",
        "    'betweenness': list(betweenness_centrality.values()),\n",
        "    'closeness': list(closeness_centrality.values()),\n",
        "    'eigenvector': list(eigenvector_centrality.values())\n",
        "})\n",
        "\n",
        "# Sort by degree centrality as an example\n",
        "centrality_df.sort_values(by='degree', ascending=False).head(20)"
      ],
      "metadata": {
        "id": "vf5TWRPD116Z"
      },
      "execution_count": null,
      "outputs": []
    },
    {
      "cell_type": "code",
      "source": [],
      "metadata": {
        "id": "-uxomloyiB1x"
      },
      "execution_count": null,
      "outputs": []
    },
    {
      "cell_type": "code",
      "source": [],
      "metadata": {
        "id": "L0OTnHXZiBzH"
      },
      "execution_count": null,
      "outputs": []
    },
    {
      "cell_type": "code",
      "source": [],
      "metadata": {
        "id": "DuGuDeEViBsS"
      },
      "execution_count": null,
      "outputs": []
    },
    {
      "cell_type": "code",
      "source": [],
      "metadata": {
        "id": "q5qRN41OiAp8"
      },
      "execution_count": null,
      "outputs": []
    }
  ]
}